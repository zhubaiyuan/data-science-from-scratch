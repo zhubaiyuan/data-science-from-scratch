{
 "cells": [
  {
   "cell_type": "code",
   "execution_count": 1,
   "metadata": {},
   "outputs": [],
   "source": [
    "import datetime\n",
    "\n",
    "stock_price = {'closing_price': 102.06,\n",
    "               'date': datetime.date(2014, 8, 29),\n",
    "               'symbol': 'AAPL'}"
   ]
  },
  {
   "cell_type": "code",
   "execution_count": 2,
   "metadata": {},
   "outputs": [],
   "source": [
    "# oops, typo\n",
    "stock_price['cosing_price'] = 103.06"
   ]
  },
  {
   "cell_type": "code",
   "execution_count": 3,
   "metadata": {},
   "outputs": [],
   "source": [
    "from typing import Dict\n",
    "\n",
    "prices: Dict[datetime.date, float] = {}"
   ]
  },
  {
   "cell_type": "code",
   "execution_count": 4,
   "metadata": {},
   "outputs": [],
   "source": [
    "from collections import namedtuple\n",
    "\n",
    "StockPrice = namedtuple('StockPrice', ['symbol', 'date', 'closing_price'])\n",
    "price = StockPrice('MSFT', datetime.date(2018, 12, 14), 106.03)\n",
    "assert price.symbol == 'MSFT'\n",
    "assert price.closing_price == 106.03"
   ]
  },
  {
   "cell_type": "code",
   "execution_count": 5,
   "metadata": {},
   "outputs": [],
   "source": [
    "from typing import NamedTuple\n",
    "\n",
    "class StockPrice(NamedTuple):\n",
    "    symbol: str\n",
    "    date: datetime.date\n",
    "    closing_price: float\n",
    "\n",
    "    def is_high_tech(self) -> bool:\n",
    "        \"\"\"It's a class, so we can add methods too\"\"\"\n",
    "        return self.symbol in ['MSFT', 'GOOG', 'FB', 'AMZN', 'AAPL']\n",
    "\n",
    "price = StockPrice('MSFT', datetime.date(2018, 12, 14), 106.03)\n",
    "\n",
    "assert price.symbol == 'MSFT'\n",
    "assert price.closing_price == 106.03\n",
    "assert price.is_high_tech()"
   ]
  }
 ],
 "metadata": {
  "interpreter": {
   "hash": "580334040f56039d3caacea6cc9b85b0f989c2f977ea3f5715f6ed60c64ca9a7"
  },
  "kernelspec": {
   "display_name": "Python 3.10.4 ('env': venv)",
   "language": "python",
   "name": "python3"
  },
  "language_info": {
   "codemirror_mode": {
    "name": "ipython",
    "version": 3
   },
   "file_extension": ".py",
   "mimetype": "text/x-python",
   "name": "python",
   "nbconvert_exporter": "python",
   "pygments_lexer": "ipython3",
   "version": "3.10.4"
  },
  "orig_nbformat": 4
 },
 "nbformat": 4,
 "nbformat_minor": 2
}
