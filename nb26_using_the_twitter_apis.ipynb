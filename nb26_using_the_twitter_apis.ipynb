{
 "cells": [
  {
   "cell_type": "code",
   "execution_count": null,
   "metadata": {},
   "outputs": [],
   "source": [
    "import os\n",
    "    \n",
    "# Feel free to plug your key and secret in directly\n",
    "CONSUMER_KEY = os.environ.get(\"TWITTER_CONSUMER_KEY\")\n",
    "CONSUMER_SECRET = os.environ.get(\"TWITTER_CONSUMER_SECRET\")"
   ]
  },
  {
   "cell_type": "code",
   "execution_count": null,
   "metadata": {},
   "outputs": [],
   "source": [
    "import webbrowser\n",
    "from twython import Twython\n",
    "\n",
    "# Get a temporary client to retrieve an authentication url\n",
    "temp_client = Twython(CONSUMER_KEY, CONSUMER_SECRET)\n",
    "temp_creds = temp_client.get_authentication_tokens()\n",
    "url = temp_creds['auth_url']\n",
    "\n",
    "# Now visit that URL to authorize the application and get a PIN\n",
    "print(f\"go visit {url} and get the PIN code and paste it below\")\n",
    "webbrowser.open(url)\n",
    "PIN_CODE = input(\"please enter the PIN code: \")\n",
    "\n",
    "# Now we use that PIN_CODE to get the actual tokens\n",
    "auth_client = Twython(CONSUMER_KEY,\n",
    "                        CONSUMER_SECRET,\n",
    "                        temp_creds['oauth_token'],\n",
    "                        temp_creds['oauth_token_secret'])\n",
    "final_step = auth_client.get_authorized_tokens(PIN_CODE)\n",
    "ACCESS_TOKEN = final_step['oauth_token']\n",
    "ACCESS_TOKEN_SECRET = final_step['oauth_token_secret']\n",
    "\n",
    "# And get a new Twython instance using them.\n",
    "twitter = Twython(CONSUMER_KEY, CONSUMER_SECRET, ACCESS_TOKEN, ACCESS_TOKEN_SECRET)"
   ]
  },
  {
   "cell_type": "code",
   "execution_count": null,
   "metadata": {},
   "outputs": [],
   "source": [
    "for status in twitter.search(q='\"data science\"')[\"statuses\"]:\n",
    "    user = status[\"user\"][\"screen_name\"]\n",
    "    text = status[\"text\"]\n",
    "    print(f\"{user}: {text}\\n\")"
   ]
  },
  {
   "cell_type": "code",
   "execution_count": null,
   "metadata": {},
   "outputs": [],
   "source": [
    "from twython import TwythonStreamer\n",
    "\n",
    "# Appending data to a global variable is pretty poor form\n",
    "# but it makes the example much simpler\n",
    "tweets = []"
   ]
  },
  {
   "cell_type": "code",
   "execution_count": null,
   "metadata": {},
   "outputs": [],
   "source": [
    "class MyStreamer(TwythonStreamer):\n",
    "    def on_success(self, data):\n",
    "        \"\"\"\n",
    "        What do we do when twitter sends us data?\n",
    "        Here data will be a Python dict representing a tweet\n",
    "        \"\"\"\n",
    "        # We only want to collect English-language tweets\n",
    "        if data.get('lang') == 'en':\n",
    "            tweets.append(data)\n",
    "            print(f\"received tweet #{len(tweets)}\")\n",
    "\n",
    "        # Stop when we've collected enough\n",
    "        if len(tweets) >= 100:\n",
    "            self.disconnect()\n",
    "\n",
    "    def on_error(self, status_code, data):\n",
    "        print(status_code, data)\n",
    "        self.disconnect()"
   ]
  },
  {
   "cell_type": "code",
   "execution_count": null,
   "metadata": {},
   "outputs": [],
   "source": [
    "stream = MyStreamer(CONSUMER_KEY, CONSUMER_SECRET, ACCESS_TOKEN, ACCESS_TOKEN_SECRET)"
   ]
  },
  {
   "cell_type": "code",
   "execution_count": null,
   "metadata": {},
   "outputs": [],
   "source": [
    "# starts consuming public statuses that contain the keyword 'data'\n",
    "stream.statuses.filter(track='data')\n",
    "\n",
    "# if instead we wanted to start consuming a sample of *all* public statuses\n",
    "# stream.statuses.sample()"
   ]
  }
 ],
 "metadata": {
  "interpreter": {
   "hash": "580334040f56039d3caacea6cc9b85b0f989c2f977ea3f5715f6ed60c64ca9a7"
  },
  "kernelspec": {
   "display_name": "Python 3.10.4 ('env': venv)",
   "language": "python",
   "name": "python3"
  },
  "language_info": {
   "name": "python",
   "version": "3.10.4"
  },
  "orig_nbformat": 4
 },
 "nbformat": 4,
 "nbformat_minor": 2
}
