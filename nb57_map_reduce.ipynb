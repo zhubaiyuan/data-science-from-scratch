{
 "cells": [
  {
   "cell_type": "code",
   "execution_count": 3,
   "metadata": {},
   "outputs": [],
   "source": [
    "from typing import Callable, Iterable, Any, Tuple\n",
    "\n",
    "# A key-value pair is just a 2-tuple\n",
    "KV = Tuple[Any, Any]\n",
    "\n",
    "# A Mapper is a function that returns an Iterable of key-value pairs\n",
    "Mapper = Callable[..., Iterable[KV]]\n",
    "\n",
    "# A Reducer is a function that takes a key and an iterable of values\n",
    "# and returns a key-value pair\n",
    "Reducer = Callable[[Any, Iterable], KV]"
   ]
  },
  {
   "cell_type": "code",
   "execution_count": 4,
   "metadata": {},
   "outputs": [],
   "source": [
    "from collections import defaultdict\n",
    "from typing import List\n",
    "\n",
    "def map_reduce(inputs: Iterable,\n",
    "               mapper: Mapper,\n",
    "               reducer: Reducer) -> List[KV]:\n",
    "    \"\"\"Run MapReduce on the inputs using mapper and reducer\"\"\"\n",
    "    collector = defaultdict(list)\n",
    "\n",
    "    for input in inputs:\n",
    "        for key, value in mapper(input):\n",
    "            collector[key].append(value)\n",
    "\n",
    "    return [output\n",
    "            for key, values in collector.items()\n",
    "            for output in reducer(key, values)]"
   ]
  },
  {
   "cell_type": "code",
   "execution_count": 5,
   "metadata": {},
   "outputs": [],
   "source": [
    "def values_reducer(values_fn: Callable) -> Reducer:\n",
    "    \"\"\"Return a reducer that just applies values_fn to its values\"\"\"\n",
    "    def reduce(key, values: Iterable) -> KV:\n",
    "        return (key, values_fn(values))\n",
    "\n",
    "    return reduce"
   ]
  },
  {
   "cell_type": "code",
   "execution_count": 6,
   "metadata": {},
   "outputs": [],
   "source": [
    "sum_reducer = values_reducer(sum)\n",
    "max_reducer = values_reducer(max)\n",
    "min_reducer = values_reducer(min)\n",
    "count_distinct_reducer = values_reducer(lambda values: len(set(values)))\n",
    "\n",
    "assert sum_reducer(\"key\", [1, 2, 3, 3]) == (\"key\", 9)\n",
    "assert min_reducer(\"key\", [1, 2, 3, 3]) == (\"key\", 1)\n",
    "assert max_reducer(\"key\", [1, 2, 3, 3]) == (\"key\", 3)\n",
    "assert count_distinct_reducer(\"key\", [1, 2, 3, 3]) == (\"key\", 3)"
   ]
  }
 ],
 "metadata": {
  "interpreter": {
   "hash": "580334040f56039d3caacea6cc9b85b0f989c2f977ea3f5715f6ed60c64ca9a7"
  },
  "kernelspec": {
   "display_name": "Python 3.10.4 ('env': venv)",
   "language": "python",
   "name": "python3"
  },
  "language_info": {
   "codemirror_mode": {
    "name": "ipython",
    "version": 3
   },
   "file_extension": ".py",
   "mimetype": "text/x-python",
   "name": "python",
   "nbconvert_exporter": "python",
   "pygments_lexer": "ipython3",
   "version": "3.10.4"
  },
  "orig_nbformat": 4
 },
 "nbformat": 4,
 "nbformat_minor": 2
}
