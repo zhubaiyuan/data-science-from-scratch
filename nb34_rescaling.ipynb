{
 "cells": [
  {
   "cell_type": "code",
   "execution_count": 1,
   "metadata": {},
   "outputs": [],
   "source": [
    "from common.distance import distance\n",
    "\n",
    "a_to_b = distance([63, 150], [67, 160])        # 10.77\n",
    "a_to_c = distance([63, 150], [70, 171])        # 22.14\n",
    "b_to_c = distance([67, 160], [70, 171])        # 11.40\n",
    "\n",
    "a_to_b = distance([160, 150], [170.2, 160])    # 14.28\n",
    "a_to_c = distance([160, 150], [177.8, 171])    # 27.53\n",
    "b_to_c = distance([170.2, 160], [177.8, 171])  # 13.37"
   ]
  },
  {
   "cell_type": "code",
   "execution_count": 2,
   "metadata": {},
   "outputs": [],
   "source": [
    "from typing import List, Tuple\n",
    "\n",
    "from common.standard_deviation import standard_deviation\n",
    "from common.vector_mean import vector_mean\n",
    "from common.vector_type import Vector\n",
    "\n",
    "def scale(data: List[Vector]) -> Tuple[Vector, Vector]:\n",
    "    \"\"\"returns the means and standard deviations for each position\"\"\"\n",
    "    dim = len(data[0])\n",
    "    means = vector_mean(data)\n",
    "    stdevs = [standard_deviation([vector[i] for vector in data])\n",
    "              for i in range(dim)]\n",
    "    return means, stdevs\n",
    "\n",
    "vectors = [[-3, -1, 1], [-1, 0, 1], [1, 1, 1]]\n",
    "means, stdevs = scale(vectors)\n",
    "assert means == [-1, 0, 1]\n",
    "assert stdevs == [2, 1, 0]"
   ]
  },
  {
   "cell_type": "code",
   "execution_count": 3,
   "metadata": {},
   "outputs": [],
   "source": [
    "def rescale(data: List[Vector]) -> List[Vector]:\n",
    "    \"\"\"\n",
    "    Rescales the input data so that each position has\n",
    "    mean 0 and standard deviation 1. (Leaves a position\n",
    "    as is if its standard deviation is 0.)\n",
    "    \"\"\"\n",
    "    dim = len(data[0])\n",
    "    means, stdevs = scale(data)\n",
    "    # Make a copy of each vector\n",
    "    rescaled = [v[:] for v in data]\n",
    "    for v in rescaled:\n",
    "        for i in range(dim):\n",
    "            if stdevs[i] > 0:\n",
    "                v[i] = (v[i] - means[i]) / stdevs[i]\n",
    "    return rescaled"
   ]
  },
  {
   "cell_type": "code",
   "execution_count": 4,
   "metadata": {},
   "outputs": [],
   "source": [
    "means, stdevs = scale(rescale(vectors))\n",
    "assert means == [0, 0, 1]\n",
    "assert stdevs == [1, 1, 0]"
   ]
  }
 ],
 "metadata": {
  "interpreter": {
   "hash": "580334040f56039d3caacea6cc9b85b0f989c2f977ea3f5715f6ed60c64ca9a7"
  },
  "kernelspec": {
   "display_name": "Python 3.10.4 ('env': venv)",
   "language": "python",
   "name": "python3"
  },
  "language_info": {
   "codemirror_mode": {
    "name": "ipython",
    "version": 3
   },
   "file_extension": ".py",
   "mimetype": "text/x-python",
   "name": "python",
   "nbconvert_exporter": "python",
   "pygments_lexer": "ipython3",
   "version": "3.10.4"
  },
  "orig_nbformat": 4
 },
 "nbformat": 4,
 "nbformat_minor": 2
}
