{
 "cells": [
  {
   "cell_type": "code",
   "execution_count": 1,
   "metadata": {},
   "outputs": [],
   "source": [
    "# Analyzing status updates\n",
    "import datetime\n",
    "\n",
    "status_updates = [\n",
    "    {\"id\": 2,\n",
    "        \"username\" : \"joelgrus\",\n",
    "        \"text\" : \"Should I write a second edition of my data science book?\",\n",
    "        \"created_at\" : datetime.datetime(2018, 2, 21, 11, 47, 0),\n",
    "        \"liked_by\" : [\"data_guy\", \"data_gal\", \"mike\"] },\n",
    "        # ...\n",
    "]"
   ]
  },
  {
   "cell_type": "code",
   "execution_count": 2,
   "metadata": {},
   "outputs": [],
   "source": [
    "from typing import Iterable\n",
    "\n",
    "from common.map_reduce import map_reduce\n",
    "from common.sum_reducer import sum_reducer\n",
    "\n",
    "def data_science_day_mapper(status_update: dict) -> Iterable:\n",
    "    \"\"\"Yields (day_of_week, 1) if status_update contains \"data science\" \"\"\"\n",
    "    if \"data science\" in status_update[\"text\"].lower():\n",
    "        day_of_week = status_update[\"created_at\"].weekday()\n",
    "        yield (day_of_week, 1)\n",
    "\n",
    "data_science_days = map_reduce(status_updates,\n",
    "                                data_science_day_mapper,\n",
    "                                sum_reducer)"
   ]
  },
  {
   "cell_type": "code",
   "execution_count": 3,
   "metadata": {},
   "outputs": [],
   "source": [
    "from collections import Counter\n",
    "\n",
    "from common.kv_type import KV\n",
    "from common.tokenize import tokenize\n",
    "\n",
    "def words_per_user_mapper(status_update: dict):\n",
    "    user = status_update[\"username\"]\n",
    "    for word in tokenize(status_update[\"text\"]):\n",
    "        yield (user, (word, 1))\n",
    "\n",
    "def most_popular_word_reducer(user: str,\n",
    "                                words_and_counts: Iterable[KV]):\n",
    "    \"\"\"\n",
    "    Given a sequence of (word, count) pairs,\n",
    "    return the word with the highest total count\n",
    "    \"\"\"\n",
    "    word_counts = Counter()\n",
    "    for word, count in words_and_counts:\n",
    "        word_counts[word] += count\n",
    "\n",
    "    word, count = word_counts.most_common(1)[0]\n",
    "\n",
    "    yield (user, (word, count))\n",
    "\n",
    "user_words = map_reduce(status_updates,\n",
    "                        words_per_user_mapper,\n",
    "                        most_popular_word_reducer)"
   ]
  },
  {
   "cell_type": "code",
   "execution_count": 4,
   "metadata": {},
   "outputs": [],
   "source": [
    "from common.count_distinct_reducer import count_distinct_reducer\n",
    "\n",
    "def liker_mapper(status_update: dict):\n",
    "    user = status_update[\"username\"]\n",
    "    for liker in status_update[\"liked_by\"]:\n",
    "        yield (user, liker)\n",
    "\n",
    "distinct_likers_per_user = map_reduce(status_updates,\n",
    "                                        liker_mapper,\n",
    "                                        count_distinct_reducer)"
   ]
  }
 ],
 "metadata": {
  "interpreter": {
   "hash": "580334040f56039d3caacea6cc9b85b0f989c2f977ea3f5715f6ed60c64ca9a7"
  },
  "kernelspec": {
   "display_name": "Python 3.10.4 ('env': venv)",
   "language": "python",
   "name": "python3"
  },
  "language_info": {
   "codemirror_mode": {
    "name": "ipython",
    "version": 3
   },
   "file_extension": ".py",
   "mimetype": "text/x-python",
   "name": "python",
   "nbconvert_exporter": "python",
   "pygments_lexer": "ipython3",
   "version": "3.10.4"
  },
  "orig_nbformat": 4
 },
 "nbformat": 4,
 "nbformat_minor": 2
}
