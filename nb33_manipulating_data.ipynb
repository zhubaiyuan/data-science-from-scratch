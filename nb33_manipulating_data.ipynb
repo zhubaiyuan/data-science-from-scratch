{
 "cells": [
  {
   "cell_type": "code",
   "execution_count": 5,
   "metadata": {},
   "outputs": [],
   "source": [
    "from collections import defaultdict\n",
    "from typing import Dict\n",
    "\n",
    "import csv\n",
    "\n",
    "from common.try_parse_row import try_parse_row\n",
    "\n",
    "with open(\"stocks.csv\", \"r\") as f:\n",
    "    reader = csv.DictReader(f)\n",
    "    rows = [[row['Symbol'], row['Date'], row['Close']]\n",
    "            for row in reader]\n",
    "\n",
    "# skip header\n",
    "maybe_data = [try_parse_row(row) for row in rows]\n",
    "\n",
    "# This is just to make mypy happy\n",
    "data = [sp for sp in maybe_data if sp is not None]\n",
    "\n",
    "max_prices: Dict[str, float] = defaultdict(lambda: float('-inf'))\n",
    "\n",
    "for sp in data:\n",
    "    symbol, closing_price = sp.symbol, sp.closing_price\n",
    "    if closing_price > max_prices[symbol]:\n",
    "        max_prices[symbol] = closing_price"
   ]
  },
  {
   "cell_type": "code",
   "execution_count": 6,
   "metadata": {},
   "outputs": [],
   "source": [
    "from typing import List\n",
    "from collections import defaultdict\n",
    "\n",
    "from common.try_parse_row import StockPrice\n",
    "\n",
    "# Collect the prices by symbol\n",
    "prices: Dict[str, List[StockPrice]] = defaultdict(list)\n",
    "\n",
    "for sp in data:\n",
    "    prices[sp.symbol].append(sp)"
   ]
  },
  {
   "cell_type": "code",
   "execution_count": 7,
   "metadata": {},
   "outputs": [],
   "source": [
    "# Order the prices by date\n",
    "prices = {symbol: sorted(symbol_prices)\n",
    "          for symbol, symbol_prices in prices.items()}"
   ]
  },
  {
   "cell_type": "code",
   "execution_count": 8,
   "metadata": {},
   "outputs": [],
   "source": [
    "from typing import NamedTuple\n",
    "\n",
    "import datetime\n",
    "\n",
    "def pct_change(yesterday: StockPrice, today: StockPrice) -> float:\n",
    "    return today.closing_price / yesterday.closing_price - 1\n",
    "\n",
    "class DailyChange(NamedTuple):\n",
    "    symbol: str\n",
    "    date: datetime.date\n",
    "    pct_change: float\n",
    "\n",
    "def day_over_day_changes(prices: List[StockPrice]) -> List[DailyChange]:\n",
    "    \"\"\"\n",
    "    Assumes prices are for one stock and are in order\n",
    "    \"\"\"\n",
    "    return [DailyChange(symbol=today.symbol,\n",
    "                        date=today.date,\n",
    "                        pct_change=pct_change(yesterday, today))\n",
    "            for yesterday, today in zip(prices, prices[1:])]\n",
    "\n",
    "all_changes = [change\n",
    "               for symbol_prices in prices.values()\n",
    "               for change in day_over_day_changes(symbol_prices)]"
   ]
  },
  {
   "cell_type": "code",
   "execution_count": null,
   "metadata": {},
   "outputs": [],
   "source": [
    "max_change = max(all_changes, key=lambda change: change.pct_change)\n",
    "# see, e.g. http://news.cnet.com/2100-1001-202143.html\n",
    "assert max_change.symbol == 'AAPL'\n",
    "assert max_change.date == datetime.date(1997, 8, 6)\n",
    "assert 0.33 < max_change.pct_change < 0.34"
   ]
  },
  {
   "cell_type": "code",
   "execution_count": null,
   "metadata": {},
   "outputs": [],
   "source": [
    "min_change = min(all_changes, key=lambda change: change.pct_change)\n",
    "# see, e.g. http://money.cnn.com/2000/09/29/markets/techwrap/\n",
    "assert min_change.symbol == 'AAPL'\n",
    "assert min_change.date == datetime.date(2000, 9, 29)\n",
    "assert -0.52 < min_change.pct_change < -0.51"
   ]
  },
  {
   "cell_type": "code",
   "execution_count": null,
   "metadata": {},
   "outputs": [],
   "source": [
    "changes_by_month: List[DailyChange] = {month: [] for month in range(1, 13)}\n",
    "\n",
    "for change in all_changes:\n",
    "    changes_by_month[change.date.month].append(change)\n",
    "\n",
    "avg_daily_change = {\n",
    "    month: sum(change.pct_change for change in changes) / len(changes)\n",
    "    for month, changes in changes_by_month.items()\n",
    "}\n",
    "\n",
    "# October is the best month\n",
    "assert avg_daily_change[10] == max(avg_daily_change.values())"
   ]
  }
 ],
 "metadata": {
  "interpreter": {
   "hash": "580334040f56039d3caacea6cc9b85b0f989c2f977ea3f5715f6ed60c64ca9a7"
  },
  "kernelspec": {
   "display_name": "Python 3.10.4 ('env': venv)",
   "language": "python",
   "name": "python3"
  },
  "language_info": {
   "codemirror_mode": {
    "name": "ipython",
    "version": 3
   },
   "file_extension": ".py",
   "mimetype": "text/x-python",
   "name": "python",
   "nbconvert_exporter": "python",
   "pygments_lexer": "ipython3",
   "version": "3.10.4"
  },
  "orig_nbformat": 4
 },
 "nbformat": 4,
 "nbformat_minor": 2
}
