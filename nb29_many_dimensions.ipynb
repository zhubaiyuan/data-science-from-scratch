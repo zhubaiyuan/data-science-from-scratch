{
 "cells": [
  {
   "cell_type": "code",
   "execution_count": null,
   "metadata": {},
   "outputs": [],
   "source": [
    "from typing import List\n",
    "\n",
    "from common.correlation import correlation\n",
    "from common.make_matrix import make_matrix\n",
    "from common.matrix_type import Matrix\n",
    "from common.vector_type import Vector\n",
    "\n",
    "def correlation_matrix(data: List[Vector]) -> Matrix:\n",
    "    \"\"\"\n",
    "    Returns the len(data) x len(data) matrix whose (i, j)-th entry\n",
    "    is the correlation between data[i] and data[j]\n",
    "    \"\"\"\n",
    "    def correlation_ij(i: int, j: int) -> float:\n",
    "        return correlation(data[i], data[j])\n",
    "\n",
    "    return make_matrix(len(data), len(data), correlation_ij)"
   ]
  },
  {
   "cell_type": "code",
   "execution_count": null,
   "metadata": {},
   "outputs": [],
   "source": [
    "from typing import List\n",
    "import matplotlib.pyplot as plt\n",
    "import random\n",
    "\n",
    "from common.random_normal import random_normal\n",
    "\n",
    "# Just some random data to show off correlation scatterplots\n",
    "num_points = 100\n",
    "\n",
    "def random_row() -> List[float]:\n",
    "    row = [0.0, 0, 0, 0]\n",
    "    row[0] = random_normal()\n",
    "    row[1] = -5 * row[0] + random_normal()\n",
    "    row[2] = row[0] + row[1] + 5 * random_normal()\n",
    "    row[3] = 6 if row[2] > -2 else 0\n",
    "    return row\n",
    "\n",
    "random.seed(0)\n",
    "# each row has 4 points, but really we want the columns\n",
    "corr_rows = [random_row() for _ in range(num_points)]\n",
    "\n",
    "corr_data = [list(col) for col in zip(*corr_rows)]\n",
    "# corr_data is a list of four 100-d vectors\n",
    "num_vectors = len(corr_data)\n",
    "fig, ax = plt.subplots(num_vectors, num_vectors)\n",
    "\n",
    "for i in range(num_vectors):\n",
    "    for j in range(num_vectors):\n",
    "\n",
    "        # Scatter column_j on the x-axis vs column_i on the y-axis,\n",
    "        if i != j: ax[i][j].scatter(corr_data[j], corr_data[i])\n",
    "\n",
    "        # unless i == j, in which case show the series name.\n",
    "        else: ax[i][j].annotate(\"series \" + str(i), (0.5, 0.5),\n",
    "                                xycoords='axes fraction',\n",
    "                                ha=\"center\", va=\"center\")\n",
    "\n",
    "        # Then hide axis labels except left and bottom charts\n",
    "        if i < num_vectors - 1: ax[i][j].xaxis.set_visible(False)\n",
    "        if j > 0: ax[i][j].yaxis.set_visible(False)\n",
    "\n",
    "# Fix the bottom right and top left axis labels, which are wrong because\n",
    "# their charts only have text in them\n",
    "ax[-1][-1].set_xlim(ax[0][-1].get_xlim())\n",
    "ax[0][0].set_ylim(ax[0][1].get_ylim())\n",
    "\n",
    "# plt.show()\n",
    "\n",
    "plt.savefig('image/img017.png')\n",
    "plt.gca().clear()\n",
    "plt.close()\n",
    "plt.clf()"
   ]
  }
 ],
 "metadata": {
  "interpreter": {
   "hash": "580334040f56039d3caacea6cc9b85b0f989c2f977ea3f5715f6ed60c64ca9a7"
  },
  "kernelspec": {
   "display_name": "Python 3.10.4 ('env': venv)",
   "language": "python",
   "name": "python3"
  },
  "language_info": {
   "codemirror_mode": {
    "name": "ipython",
    "version": 3
   },
   "file_extension": ".py",
   "mimetype": "text/x-python",
   "name": "python",
   "nbconvert_exporter": "python",
   "pygments_lexer": "ipython3",
   "version": "3.10.4"
  },
  "orig_nbformat": 4
 },
 "nbformat": 4,
 "nbformat_minor": 2
}
