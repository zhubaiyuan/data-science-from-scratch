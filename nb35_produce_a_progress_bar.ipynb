{
 "cells": [
  {
   "cell_type": "code",
   "execution_count": null,
   "metadata": {},
   "outputs": [],
   "source": [
    "import random\n",
    "import tqdm\n",
    "\n",
    "for i in tqdm.tqdm(range(100)):\n",
    "    # do something slow\n",
    "    _ = [random.random() for _ in range(1000000)]"
   ]
  },
  {
   "cell_type": "code",
   "execution_count": null,
   "metadata": {},
   "outputs": [],
   "source": [
    "from typing import List\n",
    "\n",
    "def primes_up_to(n: int) -> List[int]:\n",
    "    primes = [2]\n",
    "    with tqdm.trange(3, n) as t:\n",
    "        for i in t:\n",
    "            # i is prime if no smaller prime divides it.\n",
    "            i_is_prime = not any(i % p == 0 for p in primes)\n",
    "            if i_is_prime:\n",
    "                primes.append(i)\n",
    "            t.set_description(f\"{len(primes)} primes\")\n",
    "    return primes\n",
    "\n",
    "my_primes = primes_up_to(100_000)"
   ]
  }
 ],
 "metadata": {
  "interpreter": {
   "hash": "580334040f56039d3caacea6cc9b85b0f989c2f977ea3f5715f6ed60c64ca9a7"
  },
  "kernelspec": {
   "display_name": "Python 3.10.4 ('env': venv)",
   "language": "python",
   "name": "python3"
  },
  "language_info": {
   "codemirror_mode": {
    "name": "ipython",
    "version": 3
   },
   "file_extension": ".py",
   "mimetype": "text/x-python",
   "name": "python",
   "nbconvert_exporter": "python",
   "pygments_lexer": "ipython3",
   "version": "3.10.4"
  },
  "orig_nbformat": 4
 },
 "nbformat": 4,
 "nbformat_minor": 2
}
