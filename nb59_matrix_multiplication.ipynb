{
 "cells": [
  {
   "cell_type": "code",
   "execution_count": 1,
   "metadata": {},
   "outputs": [],
   "source": [
    "from typing import NamedTuple\n",
    "\n",
    "class Entry(NamedTuple):\n",
    "    name: str\n",
    "    i: int\n",
    "    j: int\n",
    "    value: float"
   ]
  },
  {
   "cell_type": "code",
   "execution_count": 2,
   "metadata": {},
   "outputs": [],
   "source": [
    "from common.mapper_type import Mapper\n",
    "\n",
    "def matrix_multiply_mapper(num_rows_a: int, num_cols_b: int) -> Mapper:\n",
    "    # C[x][y] = A[x][0] * B[0][y] + ... + A[x][m] * B[m][y]\n",
    "    #\n",
    "    # so an element A[i][j] goes into every C[i][y] with coef B[j][y]\n",
    "    # and an element B[i][j] goes into every C[x][j] with coef A[x][i]\n",
    "    def mapper(entry: Entry):\n",
    "        if entry.name == \"A\":\n",
    "            for y in range(num_cols_b):\n",
    "                key = (entry.i, y)              # which element of C\n",
    "                value = (entry.j, entry.value)  # which entry in the sum\n",
    "                yield (key, value)\n",
    "        else:\n",
    "            for x in range(num_rows_a):\n",
    "                key = (x, entry.j)              # which element of C\n",
    "                value = (entry.i, entry.value)  # which entry in the sum\n",
    "                yield (key, value)\n",
    "\n",
    "    return mapper"
   ]
  },
  {
   "cell_type": "code",
   "execution_count": 3,
   "metadata": {},
   "outputs": [],
   "source": [
    "from collections import defaultdict\n",
    "from typing import Iterable, Tuple\n",
    "\n",
    "def matrix_multiply_reducer(key: Tuple[int, int],\n",
    "                            indexed_values: Iterable[Tuple[int, int]]):\n",
    "    results_by_index = defaultdict(list)\n",
    "\n",
    "    for index, value in indexed_values:\n",
    "        results_by_index[index].append(value)\n",
    "\n",
    "    # Multiply the values for positions with two values\n",
    "    # (one from A, and one from B) and sum them up.\n",
    "    sumproduct = sum(values[0] * values[1]\n",
    "                     for values in results_by_index.values()\n",
    "                     if len(values) == 2)\n",
    "\n",
    "    if sumproduct != 0.0:\n",
    "        yield (key, sumproduct)"
   ]
  },
  {
   "cell_type": "code",
   "execution_count": 4,
   "metadata": {},
   "outputs": [],
   "source": [
    "A = [[3, 2, 0],\n",
    "     [0, 0, 0]]\n",
    "\n",
    "B = [[4, -1, 0],\n",
    "     [10, 0, 0],\n",
    "     [0, 0, 0]]"
   ]
  },
  {
   "cell_type": "code",
   "execution_count": 5,
   "metadata": {},
   "outputs": [],
   "source": [
    "from common.map_reduce import map_reduce\n",
    "\n",
    "entries = [Entry(\"A\", 0, 0, 3), Entry(\"A\", 0, 1,  2), Entry(\"B\", 0, 0, 4),\n",
    "            Entry(\"B\", 0, 1, -1), Entry(\"B\", 1, 0, 10)]\n",
    "\n",
    "mapper = matrix_multiply_mapper(num_rows_a=2, num_cols_b=3)\n",
    "reducer = matrix_multiply_reducer\n",
    "\n",
    "# Product should be [[32, -3, 0], [0, 0, 0]].\n",
    "# So it should have two entries.\n",
    "assert (set(map_reduce(entries, mapper, reducer)) ==\n",
    "        {((0, 1), -3), ((0, 0), 32)})"
   ]
  }
 ],
 "metadata": {
  "interpreter": {
   "hash": "580334040f56039d3caacea6cc9b85b0f989c2f977ea3f5715f6ed60c64ca9a7"
  },
  "kernelspec": {
   "display_name": "Python 3.10.4 ('env': venv)",
   "language": "python",
   "name": "python3"
  },
  "language_info": {
   "codemirror_mode": {
    "name": "ipython",
    "version": 3
   },
   "file_extension": ".py",
   "mimetype": "text/x-python",
   "name": "python",
   "nbconvert_exporter": "python",
   "pygments_lexer": "ipython3",
   "version": "3.10.4"
  },
  "orig_nbformat": 4
 },
 "nbformat": 4,
 "nbformat_minor": 2
}
