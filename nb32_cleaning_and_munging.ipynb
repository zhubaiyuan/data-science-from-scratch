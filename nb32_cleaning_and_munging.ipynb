{
 "cells": [
  {
   "cell_type": "code",
   "execution_count": 11,
   "metadata": {},
   "outputs": [],
   "source": [
    "from dateutil.parser import parse\n",
    "from typing import List\n",
    "from typing import NamedTuple\n",
    "\n",
    "import datetime\n",
    "\n",
    "class StockPrice(NamedTuple):\n",
    "    symbol: str\n",
    "    date: datetime.date\n",
    "    closing_price: float\n",
    "\n",
    "    def is_high_tech(self) -> bool:\n",
    "        \"\"\"It's a class, so we can add methods too\"\"\"\n",
    "        return self.symbol in ['MSFT', 'GOOG', 'FB', 'AMZN', 'AAPL']\n",
    "\n",
    "def parse_row(row: List[str]) -> StockPrice:\n",
    "    symbol, date, closing_price = row\n",
    "    return StockPrice(symbol=symbol,\n",
    "                      date=parse(date).date(),\n",
    "                      closing_price=float(closing_price))\n",
    "\n",
    "# Now test our function\n",
    "stock = parse_row([\"MSFT\", \"2018-12-14\", \"106.03\"])\n",
    "\n",
    "assert stock.symbol == \"MSFT\"\n",
    "assert stock.date == datetime.date(2018, 12, 14)\n",
    "assert stock.closing_price == 106.03"
   ]
  },
  {
   "cell_type": "code",
   "execution_count": 12,
   "metadata": {},
   "outputs": [],
   "source": [
    "from typing import Optional\n",
    "import re\n",
    "\n",
    "def try_parse_row(row: List[str]) -> Optional[StockPrice]:\n",
    "    symbol, date_, closing_price_ = row\n",
    "    # Stock symbol should be all capital letters\n",
    "    if not re.match(r\"^[A-Z]+$\", symbol):\n",
    "        return None\n",
    "    try:\n",
    "        date = parse(date_).date()\n",
    "    except ValueError:\n",
    "        return None\n",
    "    try:\n",
    "        closing_price = float(closing_price_)\n",
    "    except ValueError:\n",
    "        return None\n",
    "    return StockPrice(symbol, date, closing_price)\n",
    "\n",
    "# Should return None for errors\n",
    "assert try_parse_row([\"MSFT0\", \"2018-12-14\", \"106.03\"]) is None\n",
    "assert try_parse_row([\"MSFT\", \"2018-12--14\", \"106.03\"]) is None\n",
    "assert try_parse_row([\"MSFT\", \"2018-12-14\", \"x\"]) is None\n",
    "# But should return same as before if data is good.\n",
    "assert try_parse_row([\"MSFT\", \"2018-12-14\", \"106.03\"]) == stock"
   ]
  },
  {
   "cell_type": "code",
   "execution_count": 13,
   "metadata": {},
   "outputs": [
    {
     "name": "stdout",
     "output_type": "stream",
     "text": [
      "skipping invalid row: ['MSFT', '6/19/2014', 'n/a']\n"
     ]
    }
   ],
   "source": [
    "import csv\n",
    "\n",
    "data: List[StockPrice] = []\n",
    "\n",
    "with open(\"comma_delimited_stock_prices.csv\") as f:\n",
    "    reader = csv.reader(f)\n",
    "    for row in reader:\n",
    "        maybe_stock = try_parse_row(row)\n",
    "        if maybe_stock is None:\n",
    "            print(f\"skipping invalid row: {row}\")\n",
    "        else:\n",
    "            data.append(maybe_stock)"
   ]
  }
 ],
 "metadata": {
  "interpreter": {
   "hash": "580334040f56039d3caacea6cc9b85b0f989c2f977ea3f5715f6ed60c64ca9a7"
  },
  "kernelspec": {
   "display_name": "Python 3.10.4 ('env': venv)",
   "language": "python",
   "name": "python3"
  },
  "language_info": {
   "codemirror_mode": {
    "name": "ipython",
    "version": 3
   },
   "file_extension": ".py",
   "mimetype": "text/x-python",
   "name": "python",
   "nbconvert_exporter": "python",
   "pygments_lexer": "ipython3",
   "version": "3.10.4"
  },
  "orig_nbformat": 4
 },
 "nbformat": 4,
 "nbformat_minor": 2
}
